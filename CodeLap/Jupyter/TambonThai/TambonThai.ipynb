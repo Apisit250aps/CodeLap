{
 "cells": [
  {
   "attachments": {},
   "cell_type": "markdown",
   "metadata": {},
   "source": [
    "### Library."
   ]
  },
  {
   "cell_type": "code",
   "execution_count": 1,
   "metadata": {},
   "outputs": [],
   "source": [
    "import pandas as pd \n",
    "import xlrd\n",
    "import json"
   ]
  },
  {
   "attachments": {},
   "cell_type": "markdown",
   "metadata": {},
   "source": [
    "### อ่านไฟล์ Excel ด้วย pandas และเลือก sheet 'TambonDatabase'"
   ]
  },
  {
   "cell_type": "code",
   "execution_count": 49,
   "metadata": {},
   "outputs": [],
   "source": [
    "data = pd.read_excel('ThepExcel-Thailand-Tambon.xlsx', 'TambonDatabase')"
   ]
  },
  {
   "attachments": {},
   "cell_type": "markdown",
   "metadata": {},
   "source": [
    "### เลือก column 'ProvinceThai' เพื่อคัดเอาเฉพาะรายชื่อจังหวัดในประเทศไทย และ `.unique()` เพื่อตัดส่วนที่ซ้ำออก และ ทำให้กลายเป็น List"
   ]
  },
  {
   "cell_type": "code",
   "execution_count": 50,
   "metadata": {},
   "outputs": [],
   "source": [
    "province = data['ProvinceThai'].unique()"
   ]
  },
  {
   "attachments": {},
   "cell_type": "markdown",
   "metadata": {},
   "source": [
    "### สร้าง Dictionary ว่างขึ้นมา เพื่อเตรียมข้อมูลมาแปลงเป็น Json\n"
   ]
  },
  {
   "cell_type": "code",
   "execution_count": 51,
   "metadata": {},
   "outputs": [],
   "source": [
    "tambonInfo = {\n",
    "\n",
    "}\n"
   ]
  },
  {
   "attachments": {},
   "cell_type": "markdown",
   "metadata": {},
   "source": [
    "### Code : การนำข้อมูลเข้า Dictionary"
   ]
  },
  {
   "cell_type": "code",
   "execution_count": 52,
   "metadata": {},
   "outputs": [],
   "source": [
    "for prov in province:\n",
    "    tmp = {}\n",
    "    district = data.loc[(data.ProvinceThai == prov)]\n",
    "    for dist in district['DistrictThai'].unique():\n",
    "        tambon = data.loc[(data.DistrictThai == dist)]['TambonThai']\n",
    "        tmp[dist]  = [i for i in tambon.unique()]\n",
    "        tambonInfo[prov] = tmp"
   ]
  },
  {
   "attachments": {},
   "cell_type": "markdown",
   "metadata": {},
   "source": [
    "### Code : การแปลงข้อมูล Dictionary เป็น Json\n"
   ]
  },
  {
   "cell_type": "code",
   "execution_count": 53,
   "metadata": {},
   "outputs": [],
   "source": [
    "with open('TambonThai[thai].json', 'w', encoding='utf8') as json_file:\n",
    "    json.dump(tambonInfo, json_file, ensure_ascii=False)\n",
    "    "
   ]
  }
 ],
 "metadata": {
  "kernelspec": {
   "display_name": "Python 3",
   "language": "python",
   "name": "python3"
  },
  "language_info": {
   "codemirror_mode": {
    "name": "ipython",
    "version": 3
   },
   "file_extension": ".py",
   "mimetype": "text/x-python",
   "name": "python",
   "nbconvert_exporter": "python",
   "pygments_lexer": "ipython3",
   "version": "3.11.2"
  },
  "orig_nbformat": 4
 },
 "nbformat": 4,
 "nbformat_minor": 2
}

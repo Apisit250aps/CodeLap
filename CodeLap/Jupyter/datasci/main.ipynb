{
 "cells": [
  {
   "cell_type": "code",
   "execution_count": 8,
   "metadata": {},
   "outputs": [],
   "source": [
    "import pandas as pd"
   ]
  },
  {
   "attachments": {},
   "cell_type": "markdown",
   "metadata": {},
   "source": [
    "###  Set data to Dictionary type  \n",
    "###  credit data from \n",
    "\n",
    "[data world](https://data.world/aacurtis/classic-models)"
   ]
  },
  {
   "cell_type": "code",
   "execution_count": 10,
   "metadata": {},
   "outputs": [],
   "source": [
    "\n",
    "dataList = {\n",
    "    'Products':'https://query.data.world/s/qstk2cv5y3gzca3gm3edm45vcpm2z7',\n",
    "    'productLines':'https://query.data.world/s/tqaj3ezqpnkmwyan37uo5gattvoaqi',\n",
    "    'Payments':'https://query.data.world/s/5365a22a4e6ea3gxao5lctgor7aedu',\n",
    "    'Orders':'https://query.data.world/s/mchuyud5ztbkmnqusdorqklajzps57',\n",
    "    'oderDetails':'https://query.data.world/s/d2a5dgmnf7cjrxrfombogalx7xxkhc',\n",
    "    'Offices':'https://query.data.world/s/7mnml5grqpb6terk472otjwigsjfuv',\n",
    "    'Employees':'https://query.data.world/s/j7dtpqvxyp6z4sbsvtdy2zgnib3ebd',\n",
    "    'Customers':'https://query.data.world/s/k2lr3hbo2jbagkkdn4bkdop4gvewuc'\n",
    "}\n",
    "\n",
    "\n",
    "     "
   ]
  },
  {
   "attachments": {},
   "cell_type": "markdown",
   "metadata": {},
   "source": [
    "###  function Query data csv URL to Excel file."
   ]
  },
  {
   "cell_type": "code",
   "execution_count": 12,
   "metadata": {},
   "outputs": [],
   "source": [
    "def QueryToExcel(filename:str, data:dict):\n",
    "    try :\n",
    "        with pd.ExcelWriter(filename) as writer:\n",
    "              for key, vars in data.items():\n",
    "                try :\n",
    "                    pd.read_csv(vars).to_excel(writer, sheet_name=key)\n",
    "                    print(f'{key} Query successful.')\n",
    "                        \n",
    "                except TypeError as err:\n",
    "                    print(f'{key} Query error! \\n{err}')\n",
    "    except TypeError as err:\n",
    "        print (err)\n",
    "        return err\n",
    "        "
   ]
  },
  {
   "attachments": {},
   "cell_type": "markdown",
   "metadata": {},
   "source": [
    "QueryToExcel(`filename.xlsx`, `data:dict`)"
   ]
  },
  {
   "cell_type": "code",
   "execution_count": 13,
   "metadata": {},
   "outputs": [],
   "source": [
    "QueryToExcel('products.xlsx', dataList)"
   ]
  },
  {
   "cell_type": "code",
   "execution_count": null,
   "metadata": {},
   "outputs": [],
   "source": []
  }
 ],
 "metadata": {
  "kernelspec": {
   "display_name": "Python 3",
   "language": "python",
   "name": "python3"
  },
  "language_info": {
   "codemirror_mode": {
    "name": "ipython",
    "version": 3
   },
   "file_extension": ".py",
   "mimetype": "text/x-python",
   "name": "python",
   "nbconvert_exporter": "python",
   "pygments_lexer": "ipython3",
   "version": "3.11.2"
  },
  "orig_nbformat": 4,
  "vscode": {
   "interpreter": {
    "hash": "0d56651bc252ddddf1a2889d4a6f47208b0884975868b8047cf56ced42fbf7ec"
   }
  }
 },
 "nbformat": 4,
 "nbformat_minor": 2
}

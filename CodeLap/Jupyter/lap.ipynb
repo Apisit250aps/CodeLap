{
 "cells": [
  {
   "cell_type": "code",
   "execution_count": 58,
   "metadata": {},
   "outputs": [],
   "source": [
    "from math import *"
   ]
  },
  {
   "cell_type": "markdown",
   "metadata": {},
   "source": [
    "การคำนวณ ค่า -dB และการ plot-graph แสดงค่า pathloss ของสัญญาณ 2.4GHz และ 5.0GHz"
   ]
  },
  {
   "cell_type": "code",
   "execution_count": 59,
   "metadata": {},
   "outputs": [
    {
     "name": "stdout",
     "output_type": "stream",
     "text": [
      "No.|    2.4GHz|    5.0GHz| Pw Lv. 2.4GHz|5.0GHz       |\n",
      "-------------------------------------------------------\n",
      "1        39.71      46.42     -19.71 dB | -26.42 dB\n",
      "2        45.73      52.44     -25.73 dB | -32.44 dB\n",
      "3        49.25      55.96     -29.25 dB | -35.96 dB\n",
      "4        51.75      58.46     -31.75 dB | -38.46 dB\n",
      "5        53.68      60.40     -33.68 dB | -40.40 dB\n",
      "6        55.27      61.98     -35.27 dB | -41.98 dB\n",
      "7        56.61      63.32     -36.61 dB | -43.32 dB\n",
      "8        57.77      64.48     -37.77 dB | -44.48 dB\n",
      "9        58.79      65.51     -38.79 dB | -45.51 dB\n",
      "10       59.71      66.42     -39.71 dB | -46.42 dB\n",
      "11       60.53      67.25     -40.53 dB | -47.25 dB\n",
      "12       61.29      68.00     -41.29 dB | -48.00 dB\n",
      "13       61.98      68.70     -41.98 dB | -48.70 dB\n",
      "14       62.63      69.34     -42.63 dB | -49.34 dB\n",
      "15       63.23      69.94     -43.23 dB | -49.94 dB\n",
      "16       63.79      70.50     -43.79 dB | -50.50 dB\n",
      "17       64.31      71.03     -44.31 dB | -51.03 dB\n",
      "18       64.81      71.53     -44.81 dB | -51.53 dB\n",
      "19       65.28      72.00     -45.28 dB | -52.00 dB\n",
      "20       65.73      72.44     -45.73 dB | -52.44 dB\n"
     ]
    }
   ],
   "source": [
    "def FSPLg(x):\n",
    "    return 20*log10(x)\n",
    "\n",
    "n = 20\n",
    "print(\"{0:<3}|{1:>10}|{2:>10}|{3:<28}|\".format(\"No.\", \"2.4GHz\", \"5.0GHz\", \" Pw Lv. 2.4GHz|5.0GHz\"))\n",
    "print(\"-\"*55)\n",
    "for i in range(1, n+1):\n",
    "    low = ((4*pi*i)/0.13)\n",
    "    high = ((4*pi*i)/0.06)\n",
    "    _2_4GHz = FSPLg(low)\n",
    "    _5GHz = FSPLg(high)\n",
    "    _PwLv_24GHz = 20-_2_4GHz\n",
    "    _PwLv_5GHz = 20-_5GHz\n",
    "    print(\"{0:<3} {1:>10.2f} {2:>10.2f} {3:>10.2f} dB | {4:.2f} dB\".format(i, _2_4GHz, _5GHz, _PwLv_24GHz, _PwLv_5GHz)) "
   ]
  },
  {
   "cell_type": "code",
   "execution_count": 113,
   "metadata": {},
   "outputs": [],
   "source": [
    "m = 100\n",
    "\n",
    "list_24 = []\n",
    "list_50 = []\n",
    "\n",
    "for i in range(1, m+1):\n",
    "    d0 = 3\n",
    "    n = 2\n",
    "    pathloss = (10*n*(log10((i/d0))))\n",
    "    _24GHz = (20*log10(((4*pi*d0))/(0.13)))+pathloss\n",
    "    _50GHz = ((20*log10(((4*pi*d0))/(0.06)))+pathloss)\n",
    "    x2 = f\"{20-_50GHz:.2f}\"\n",
    "    x1 = f\"{20-_24GHz:.2f}\"\n",
    "    \n",
    "    list_24.append(float(x1))\n",
    "    list_50.append(float(x2))\n",
    "    \n",
    "    \n",
    "    "
   ]
  },
  {
   "cell_type": "code",
   "execution_count": 114,
   "metadata": {},
   "outputs": [
    {
     "data": {
      "image/png": "[encoded data removed]",
      "text/plain": [
       "<Figure size 432x288 with 1 Axes>"
      ]
     },
     "metadata": {
      "needs_background": "light"
     },
     "output_type": "display_data"
    }
   ],
   "source": [
    "import matplotlib.pyplot as plt\n",
    "import numpy as np\n",
    "\n",
    "y_1 = list_24\n",
    "# print(y_1)\n",
    "y_2 = list_50\n",
    "# print(y_2)\n",
    "x = np.arange(1, m+1)\n",
    "\n",
    "plt.plot(x, y_1, 'r-', label=\"2.4GHz\")\n",
    "plt.plot(x, y_2, 'g:', label=\"5.0GHz\")\n",
    "plt.ylabel(\"dB\")\n",
    "plt.xlabel(\"Meter\")\n",
    "plt.legend(loc='best')\n",
    "plt.show()"
   ]
  }
 ],
 "metadata": {
  "kernelspec": {
   "display_name": "Python 3.10.4 64-bit",
   "language": "python",
   "name": "python3"
  },
  "language_info": {
   "codemirror_mode": {
    "name": "ipython",
    "version": 3
   },
   "file_extension": ".py",
   "mimetype": "text/x-python",
   "name": "python",
   "nbconvert_exporter": "python",
   "pygments_lexer": "ipython3",
   "version": "3.10.4"
  },
  "orig_nbformat": 4,
  "vscode": {
   "interpreter": {
    "hash": "a42ccb73e7d9bfdf27e036f1d2b8b681e55fc0743cc5586bc2474d4a60f4b886"
   }
  }
 },
 "nbformat": 4,
 "nbformat_minor": 2
}
